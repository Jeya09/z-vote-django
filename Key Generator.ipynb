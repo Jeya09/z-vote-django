{
 "cells": [
  {
   "cell_type": "code",
   "execution_count": 35,
   "metadata": {},
   "outputs": [],
   "source": [
    "from Crypto.PublicKey import RSA\n",
    "from hashlib import sha512"
   ]
  },
  {
   "cell_type": "code",
   "execution_count": 36,
   "metadata": {},
   "outputs": [],
   "source": [
    "keyPair = RSA.generate(bits=1024)"
   ]
  },
  {
   "cell_type": "code",
   "execution_count": 37,
   "metadata": {},
   "outputs": [
    {
     "name": "stdout",
     "output_type": "stream",
     "text": [
      "Public key:  (n=0x9c0494ef93dd5278e91c84abc80e09a02620d00954e1305e7cc05083d1b1d490b77e2f2d25086904e4dc74930d8d940befc535f4b0350c00d6a45cc0a07ceeab4824531394485b93288ad63b76dbbe13056783f3fd7eefc82783709b0b3ccd56ce27a06096a958a9d581e6e09a41e1499508b051156fb73ad21f11d5d6a0a1fb, e=0x10001)\n",
      "Private key: (n=0x9c0494ef93dd5278e91c84abc80e09a02620d00954e1305e7cc05083d1b1d490b77e2f2d25086904e4dc74930d8d940befc535f4b0350c00d6a45cc0a07ceeab4824531394485b93288ad63b76dbbe13056783f3fd7eefc82783709b0b3ccd56ce27a06096a958a9d581e6e09a41e1499508b051156fb73ad21f11d5d6a0a1fb, d=0x3d909d48d0bb6420ec33e1b27b95f67c68af480876a309d82f38204d7400cd5571e2ec30cf4d3b4bc017b2349903862913ab69782dd430f15fc1aa0c2508479156ff40754a2cdda68d5ed563a74e68e2c7c476fdcef7f16ea752c5edecfca45a52cd43b8f4272878f3f7cdd94de733ef01c478335559be66cfdc7d23d2d7d0a9)\n"
     ]
    }
   ],
   "source": [
    "print(f\"Public key:  (n={hex(keyPair.n)}, e={hex(keyPair.e)})\")\n",
    "print(f\"Private key: (n={hex(keyPair.n)}, d={hex(keyPair.d)})\")"
   ]
  },
  {
   "cell_type": "code",
   "execution_count": 38,
   "metadata": {},
   "outputs": [
    {
     "data": {
      "text/plain": [
       "43232342978353029396804004302695598171636304814698431595775698712955315543466557678471116375122777263047623584408071641755464861526907529709611500543483547694081701100609202131872490188913849744543870013014474683500877352386757933086252025274036013509191211962088290709168599237184261357718342028405253853353"
      ]
     },
     "execution_count": 38,
     "metadata": {},
     "output_type": "execute_result"
    }
   ],
   "source": [
    "keyPair.d"
   ]
  },
  {
   "cell_type": "code",
   "execution_count": 39,
   "metadata": {},
   "outputs": [
    {
     "data": {
      "text/plain": [
       "109559493514261725671023704805914752614923185825795255848279338252617938779326700072462841880686031224173547304874204059615942949997638868356939364723648807408040041198424189820737909476276927017370408452711642638336676478160276857821000639969220026052364941167219176120109592555853231346224262310550977946107"
      ]
     },
     "execution_count": 39,
     "metadata": {},
     "output_type": "execute_result"
    }
   ],
   "source": [
    "keyPair.n"
   ]
  },
  {
   "cell_type": "code",
   "execution_count": 40,
   "metadata": {},
   "outputs": [
    {
     "data": {
      "text/plain": [
       "65537"
      ]
     },
     "execution_count": 40,
     "metadata": {},
     "output_type": "execute_result"
    }
   ],
   "source": [
    "keyPair.e"
   ]
  },
  {
   "cell_type": "code",
   "execution_count": 41,
   "metadata": {},
   "outputs": [],
   "source": [
    "msg = b'A message for signing'"
   ]
  },
  {
   "cell_type": "code",
   "execution_count": 42,
   "metadata": {},
   "outputs": [
    {
     "data": {
      "text/plain": [
       "6866940647303413929360886659707398310585944768741832085930808557104870898512982844426348355404789362574208870076646140489606711762682989682230668797895224"
      ]
     },
     "execution_count": 42,
     "metadata": {},
     "output_type": "execute_result"
    }
   ],
   "source": [
    "hashh = int.from_bytes(sha512(msg).digest(), byteorder='big')\n",
    "hashh"
   ]
  },
  {
   "cell_type": "code",
   "execution_count": 43,
   "metadata": {},
   "outputs": [
    {
     "data": {
      "text/plain": [
       "'0x78cdf940391b0747b7f2aea879a29b02188934c9a9068930f8ce651f06370bce8f0a742e7847f0018eaa008ea63c2779cfb3c51a78eb480a624ff51718d6aeec5c812e95a30205f1a8e1c4f84f0824a7c907d901c51b77e0d66e92ff2cb58ed736520653b5dddfbde6d22894be1713867847884009d657284e04781148ac696d'"
      ]
     },
     "execution_count": 43,
     "metadata": {},
     "output_type": "execute_result"
    }
   ],
   "source": [
    "signature = pow(hashh, keyPair.d, keyPair.n)\n",
    "hex(signature)"
   ]
  },
  {
   "cell_type": "code",
   "execution_count": 44,
   "metadata": {},
   "outputs": [
    {
     "data": {
      "text/plain": [
       "258"
      ]
     },
     "execution_count": 44,
     "metadata": {},
     "output_type": "execute_result"
    }
   ],
   "source": [
    "len(hex(signature))"
   ]
  },
  {
   "cell_type": "code",
   "execution_count": 45,
   "metadata": {},
   "outputs": [],
   "source": [
    "hashFromSignature = pow(signature, keyPair.e, keyPair.n)"
   ]
  },
  {
   "cell_type": "code",
   "execution_count": 46,
   "metadata": {},
   "outputs": [],
   "source": [
    "l1 = [1,2,3,4,5,6]"
   ]
  },
  {
   "cell_type": "code",
   "execution_count": 47,
   "metadata": {},
   "outputs": [
    {
     "data": {
      "text/plain": [
       "[1, 2, 3]"
      ]
     },
     "execution_count": 47,
     "metadata": {},
     "output_type": "execute_result"
    }
   ],
   "source": [
    "l1[:3]"
   ]
  },
  {
   "cell_type": "code",
   "execution_count": 48,
   "metadata": {},
   "outputs": [],
   "source": [
    "l2 = [str(x) for x in l1]"
   ]
  },
  {
   "cell_type": "code",
   "execution_count": 49,
   "metadata": {},
   "outputs": [
    {
     "data": {
      "text/plain": [
       "['1', '2', '3', '4', '5', '6']"
      ]
     },
     "execution_count": 49,
     "metadata": {},
     "output_type": "execute_result"
    }
   ],
   "source": [
    "l2"
   ]
  },
  {
   "cell_type": "code",
   "execution_count": 50,
   "metadata": {},
   "outputs": [],
   "source": [
    "#"
   ]
  },
  {
   "cell_type": "code",
   "execution_count": null,
   "metadata": {},
   "outputs": [],
   "source": []
  },
  {
   "cell_type": "code",
   "execution_count": null,
   "metadata": {},
   "outputs": [],
   "source": []
  },
  {
   "cell_type": "code",
   "execution_count": null,
   "metadata": {},
   "outputs": [],
   "source": []
  },
  {
   "cell_type": "code",
   "execution_count": null,
   "metadata": {},
   "outputs": [],
   "source": []
  },
  {
   "cell_type": "code",
   "execution_count": null,
   "metadata": {},
   "outputs": [],
   "source": []
  },
  {
   "cell_type": "code",
   "execution_count": null,
   "metadata": {},
   "outputs": [],
   "source": []
  }
 ],
 "metadata": {
  "kernelspec": {
   "display_name": "Python 3",
   "language": "python",
   "name": "python3"
  },
  "language_info": {
   "codemirror_mode": {
    "name": "ipython",
    "version": 3
   },
   "file_extension": ".py",
   "mimetype": "text/x-python",
   "name": "python",
   "nbconvert_exporter": "python",
   "pygments_lexer": "ipython3",
   "version": "3.11.0"
  }
 },
 "nbformat": 4,
 "nbformat_minor": 2
}
