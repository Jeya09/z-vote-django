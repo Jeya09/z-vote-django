{
 "cells": [
  {
   "cell_type": "code",
   "execution_count": 19,
   "metadata": {},
   "outputs": [],
   "source": [
    "from Crypto.PublicKey import RSA\n",
    "from hashlib import sha512"
   ]
  },
  {
   "cell_type": "code",
   "execution_count": 20,
   "metadata": {},
   "outputs": [],
   "source": [
    "keyPair = RSA.generate(bits=1024)"
   ]
  },
  {
   "cell_type": "code",
   "execution_count": 21,
   "metadata": {},
   "outputs": [
    {
     "name": "stdout",
     "output_type": "stream",
     "text": [
      "Public key:  (n=0xb90dd5b289257879d37a87893909e109772d95c342d189fb40832d4abfa0c2093f323a0c3d8b2d42e6f2a627047af31c363ad6e95ca9243b30c46519b3e1419dde1bc00663d958e2c47413e08732cc95fd1e8665f72004985bdbb6fefe64e022b272a154892c818fadad1ea5a43d3091e384232167e7896acc7480a423978403, e=0x10001)\n",
      "Private key: (n=0xb90dd5b289257879d37a87893909e109772d95c342d189fb40832d4abfa0c2093f323a0c3d8b2d42e6f2a627047af31c363ad6e95ca9243b30c46519b3e1419dde1bc00663d958e2c47413e08732cc95fd1e8665f72004985bdbb6fefe64e022b272a154892c818fadad1ea5a43d3091e384232167e7896acc7480a423978403, d=0x1bb78ec266f84dcb3179b0c344dfcdecf504c6e1b028625a57974e395bea6025b2697b7849df86aff697717b769853c16dfdf22291d663aed9e7109d80ebc43ff705750be2f039cfa671aae566fa67a3aaf4b3702f794b3e67c811652db18ae2d0138bdd891af548a835b9c56dd76ef87f0dd1a66d08b6b6bc3b1622dfbe5601)\n"
     ]
    }
   ],
   "source": [
    "print(f\"Public key:  (n={hex(keyPair.n)}, e={hex(keyPair.e)})\")\n",
    "print(f\"Private key: (n={hex(keyPair.n)}, d={hex(keyPair.d)})\")"
   ]
  },
  {
   "cell_type": "code",
   "execution_count": 22,
   "metadata": {},
   "outputs": [
    {
     "data": {
      "text/plain": [
       "19463554813129485195677437353271917351084975454494319457922882382384016277400397020511644334826134496654231069156037204974378980302210178440000373765387989098401601552034254196682873541130927963356737356953455695876001302055832315113147293764145807383927892269187698026887911554391121746465498728480571807233"
      ]
     },
     "execution_count": 22,
     "metadata": {},
     "output_type": "execute_result"
    }
   ],
   "source": [
    "keyPair.d"
   ]
  },
  {
   "cell_type": "code",
   "execution_count": 23,
   "metadata": {},
   "outputs": [
    {
     "data": {
      "text/plain": [
       "129949367541571625027415669500955750553999188708353118817633653493714473795027487727513410225295474379301990788435127373920728935622040389611074215104139452726184337636552608054538484270340665543000920819529814036653143135284937976781069373518090957814378460561219991113250062723923623505014558917472170771459"
      ]
     },
     "execution_count": 23,
     "metadata": {},
     "output_type": "execute_result"
    }
   ],
   "source": [
    "keyPair.n"
   ]
  },
  {
   "cell_type": "code",
   "execution_count": 24,
   "metadata": {},
   "outputs": [
    {
     "data": {
      "text/plain": [
       "65537"
      ]
     },
     "execution_count": 24,
     "metadata": {},
     "output_type": "execute_result"
    }
   ],
   "source": [
    "keyPair.e"
   ]
  },
  {
   "cell_type": "code",
   "execution_count": 25,
   "metadata": {},
   "outputs": [],
   "source": [
    "msg = b'A message for signing'"
   ]
  },
  {
   "cell_type": "code",
   "execution_count": 26,
   "metadata": {},
   "outputs": [
    {
     "data": {
      "text/plain": [
       "6866940647303413929360886659707398310585944768741832085930808557104870898512982844426348355404789362574208870076646140489606711762682989682230668797895224"
      ]
     },
     "execution_count": 26,
     "metadata": {},
     "output_type": "execute_result"
    }
   ],
   "source": [
    "hashh = int.from_bytes(sha512(msg).digest(), byteorder='big')\n",
    "hashh"
   ]
  },
  {
   "cell_type": "code",
   "execution_count": 27,
   "metadata": {},
   "outputs": [
    {
     "data": {
      "text/plain": [
       "'0x73e5320ba5b21dbbcc21626c649ef8c62d0fddd3d695845773045a60a59a6179f9fcb7eda01170c77653857fe94450493c488c3953033db4b0a4bb3e34b6ca8aae81df3691149b70d59fdf0695181a0d3b5ed957bbf2388e8ead4b3f81ad9e69e6b4f54364f8eb855bb26ac82731d6209c6aaed99bc548e33ec58b2d0c4cf5be'"
      ]
     },
     "execution_count": 27,
     "metadata": {},
     "output_type": "execute_result"
    }
   ],
   "source": [
    "signature = pow(hashh, keyPair.d, keyPair.n)\n",
    "hex(signature)"
   ]
  },
  {
   "cell_type": "code",
   "execution_count": 28,
   "metadata": {},
   "outputs": [
    {
     "data": {
      "text/plain": [
       "258"
      ]
     },
     "execution_count": 28,
     "metadata": {},
     "output_type": "execute_result"
    }
   ],
   "source": [
    "len(hex(signature))"
   ]
  },
  {
   "cell_type": "code",
   "execution_count": 29,
   "metadata": {},
   "outputs": [],
   "source": [
    "hashFromSignature = pow(signature, keyPair.e, keyPair.n)"
   ]
  },
  {
   "cell_type": "code",
   "execution_count": 30,
   "metadata": {},
   "outputs": [],
   "source": [
    "l1 = [1,2,3,4,5,6]"
   ]
  },
  {
   "cell_type": "code",
   "execution_count": 31,
   "metadata": {},
   "outputs": [
    {
     "data": {
      "text/plain": [
       "[1, 2, 3]"
      ]
     },
     "execution_count": 31,
     "metadata": {},
     "output_type": "execute_result"
    }
   ],
   "source": [
    "l1[:3]"
   ]
  },
  {
   "cell_type": "code",
   "execution_count": 32,
   "metadata": {},
   "outputs": [],
   "source": [
    "l2 = [str(x) for x in l1]"
   ]
  },
  {
   "cell_type": "code",
   "execution_count": 33,
   "metadata": {},
   "outputs": [
    {
     "data": {
      "text/plain": [
       "['1', '2', '3', '4', '5', '6']"
      ]
     },
     "execution_count": 33,
     "metadata": {},
     "output_type": "execute_result"
    }
   ],
   "source": [
    "l2"
   ]
  },
  {
   "cell_type": "code",
   "execution_count": 34,
   "metadata": {},
   "outputs": [],
   "source": [
    "#"
   ]
  },
  {
   "cell_type": "code",
   "execution_count": null,
   "metadata": {},
   "outputs": [],
   "source": []
  },
  {
   "cell_type": "code",
   "execution_count": null,
   "metadata": {},
   "outputs": [],
   "source": []
  },
  {
   "cell_type": "code",
   "execution_count": null,
   "metadata": {},
   "outputs": [],
   "source": []
  },
  {
   "cell_type": "code",
   "execution_count": null,
   "metadata": {},
   "outputs": [],
   "source": []
  },
  {
   "cell_type": "code",
   "execution_count": null,
   "metadata": {},
   "outputs": [],
   "source": []
  },
  {
   "cell_type": "code",
   "execution_count": null,
   "metadata": {},
   "outputs": [],
   "source": []
  }
 ],
 "metadata": {
  "kernelspec": {
   "display_name": "Python 3",
   "language": "python",
   "name": "python3"
  },
  "language_info": {
   "codemirror_mode": {
    "name": "ipython",
    "version": 3
   },
   "file_extension": ".py",
   "mimetype": "text/x-python",
   "name": "python",
   "nbconvert_exporter": "python",
   "pygments_lexer": "ipython3",
   "version": "3.11.0"
  }
 },
 "nbformat": 4,
 "nbformat_minor": 2
}
